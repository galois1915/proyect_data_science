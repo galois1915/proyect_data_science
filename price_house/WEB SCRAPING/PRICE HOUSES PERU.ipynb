{
 "cells": [
  {
   "cell_type": "code",
   "execution_count": 1,
   "id": "1224b99b",
   "metadata": {},
   "outputs": [],
   "source": [
    "from urllib.request import urlopen\n",
    "from urllib.error import HTTPError\n",
    "from urllib.error import URLError\n",
    "from bs4 import BeautifulSoup"
   ]
  },
  {
   "cell_type": "markdown",
   "id": "fecc3683",
   "metadata": {},
   "source": [
    "### Adondevivir"
   ]
  },
  {
   "cell_type": "markdown",
   "id": "a5ee1cbb",
   "metadata": {},
   "source": [
    "Intente acceder al url pero no me deja, arroja el error 403: <br>\n",
    "The 403 Forbidden Error happens when the web page (or another resource) that you're trying to open in your web browser is a resource that you're not allowed to access."
   ]
  },
  {
   "cell_type": "markdown",
   "id": "e25a19c1",
   "metadata": {},
   "source": [
    "### Info casas"
   ]
  },
  {
   "cell_type": "code",
   "execution_count": 2,
   "id": "ba131478",
   "metadata": {},
   "outputs": [],
   "source": [
    "url = \"https://www.infocasas.com.pe/venta/terrenos\""
   ]
  },
  {
   "cell_type": "code",
   "execution_count": 3,
   "id": "6a75d2ed",
   "metadata": {},
   "outputs": [
    {
     "name": "stdout",
     "output_type": "stream",
     "text": [
      "Servidor encontrado\n"
     ]
    }
   ],
   "source": [
    "try: \n",
    "    html=urlopen(url)\n",
    "except HTTPError as e:\n",
    "    print(\"Error del servidor\")\n",
    "except URLError as e:\n",
    "    print(\"Error del url, no encontrado\")\n",
    "else :\n",
    "    print(\"Servidor encontrado\")\n",
    "    bs = BeautifulSoup(html.read(), \"html.parser\") "
   ]
  },
  {
   "cell_type": "code",
   "execution_count": 20,
   "id": "13ea066e",
   "metadata": {},
   "outputs": [
    {
     "name": "stdout",
     "output_type": "stream",
     "text": [
      "Venta de Terrenos En Perú\n"
     ]
    }
   ],
   "source": [
    "print(bs.body.h1.text)"
   ]
  },
  {
   "cell_type": "code",
   "execution_count": 27,
   "id": "a130da12",
   "metadata": {},
   "outputs": [],
   "source": [
    "ventas = bs.findAll(\"div\", {\"class\":\"propiedades-slider\"})"
   ]
  },
  {
   "cell_type": "code",
   "execution_count": 33,
   "id": "1beade8e",
   "metadata": {},
   "outputs": [
    {
     "data": {
      "text/plain": [
       "30"
      ]
     },
     "execution_count": 33,
     "metadata": {},
     "output_type": "execute_result"
    }
   ],
   "source": [
    "len(ventas)"
   ]
  },
  {
   "cell_type": "code",
   "execution_count": 47,
   "id": "93fd933f",
   "metadata": {},
   "outputs": [],
   "source": [
    "links = bs.find_all(\"a\", {\"class\":\"numbers\"})"
   ]
  },
  {
   "cell_type": "code",
   "execution_count": 53,
   "id": "8be53078",
   "metadata": {},
   "outputs": [],
   "source": [
    "pag = links[0].attrs[\"href\"]"
   ]
  },
  {
   "cell_type": "code",
   "execution_count": 54,
   "id": "30a3a936",
   "metadata": {},
   "outputs": [
    {
     "data": {
      "text/plain": [
       "'https://www.infocasas.com.pe/venta/terrenos/venta/terrenos/pagina2'"
      ]
     },
     "execution_count": 54,
     "metadata": {},
     "output_type": "execute_result"
    }
   ],
   "source": [
    "url+ pag"
   ]
  },
  {
   "cell_type": "markdown",
   "id": "95f6efd1",
   "metadata": {},
   "source": [
    "averiguar fin find all "
   ]
  },
  {
   "cell_type": "code",
   "execution_count": null,
   "id": "adec6ce6",
   "metadata": {},
   "outputs": [],
   "source": []
  }
 ],
 "metadata": {
  "kernelspec": {
   "display_name": "Python 3 (ipykernel)",
   "language": "python",
   "name": "python3"
  },
  "language_info": {
   "codemirror_mode": {
    "name": "ipython",
    "version": 3
   },
   "file_extension": ".py",
   "mimetype": "text/x-python",
   "name": "python",
   "nbconvert_exporter": "python",
   "pygments_lexer": "ipython3",
   "version": "3.8.5"
  }
 },
 "nbformat": 4,
 "nbformat_minor": 5
}
